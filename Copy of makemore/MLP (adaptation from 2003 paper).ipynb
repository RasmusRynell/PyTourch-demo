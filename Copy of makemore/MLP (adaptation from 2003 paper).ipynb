{
 "cells": [
  {
   "cell_type": "code",
   "execution_count": 13,
   "id": "6e16596c",
   "metadata": {
    "scrolled": true
   },
   "outputs": [
    {
     "name": "stdout",
     "output_type": "stream",
     "text": [
      "['zyrie', 'zyron', 'zzyzx']\n",
      "32033\n"
     ]
    }
   ],
   "source": [
    "#words = open('swedish_names.txt', 'r', encoding='utf-8').read().splitlines()\n",
    "words = open('names.txt', 'r', encoding='utf-8').read().splitlines()\n",
    "#words = [w.lower() for w in words if len(w) > 2] # Remove 2< longs words\n",
    "#words = [w for w in words if w.isascii() and w.isalpha()] # Remove names with åäö or that contains bad things\n",
    "#words = [w for w in words if '.' not in w]\n",
    "print(words[-3:])\n",
    "print(len(words))"
   ]
  },
  {
   "cell_type": "code",
   "execution_count": 14,
   "id": "372ca412",
   "metadata": {
    "scrolled": true
   },
   "outputs": [
    {
     "name": "stdout",
     "output_type": "stream",
     "text": [
      "27\n",
      "['a', 'b', 'c', 'd', 'e', 'f', 'g', 'h', 'i', 'j', 'k', 'l', 'm', 'n', 'o', 'p', 'q', 'r', 's', 't', 'u', 'v', 'w', 'x', 'y', 'z']\n"
     ]
    },
    {
     "data": {
      "text/plain": [
       "{1: 'a',\n",
       " 2: 'b',\n",
       " 3: 'c',\n",
       " 4: 'd',\n",
       " 5: 'e',\n",
       " 6: 'f',\n",
       " 7: 'g',\n",
       " 8: 'h',\n",
       " 9: 'i',\n",
       " 10: 'j',\n",
       " 11: 'k',\n",
       " 12: 'l',\n",
       " 13: 'm',\n",
       " 14: 'n',\n",
       " 15: 'o',\n",
       " 16: 'p',\n",
       " 17: 'q',\n",
       " 18: 'r',\n",
       " 19: 's',\n",
       " 20: 't',\n",
       " 21: 'u',\n",
       " 22: 'v',\n",
       " 23: 'w',\n",
       " 24: 'x',\n",
       " 25: 'y',\n",
       " 26: 'z',\n",
       " 0: '.'}"
      ]
     },
     "execution_count": 14,
     "metadata": {},
     "output_type": "execute_result"
    }
   ],
   "source": [
    "letters = sorted(list(set(''.join(words)))) # Get all individual letters sorted, should be alphabet (if all letters are once included in our names)\n",
    "num_of_unique_letters = len(letters) + 1 # Add 1 for '.' our special char\n",
    "stoi = {s:i+1 for i,s in enumerate(letters)} # Create a mapping from a char to a int in order to index in tensor\n",
    "stoi['.'] = 0 # Add . as a special char\n",
    "itos = {i:s for s,i in stoi.items()} # Create the mapping in reverse\n",
    "print(num_of_unique_letters)\n",
    "print(letters)\n",
    "itos"
   ]
  },
  {
   "cell_type": "code",
   "execution_count": 15,
   "id": "490f0fbd",
   "metadata": {
    "scrolled": false
   },
   "outputs": [
    {
     "name": "stdout",
     "output_type": "stream",
     "text": [
      "['zzyzx']\n",
      "([[0, 0, 0], [0, 0, 26], [0, 26, 26], [26, 26, 25], [26, 25, 26], [25, 26, 24]], [26, 26, 25, 26, 24, 0])\n"
     ]
    }
   ],
   "source": [
    "def build_data(words, nChars):\n",
    "    x, y = [], []\n",
    "    for w in words:\n",
    "        chs = list('.'*nChars + w + \".\")\n",
    "        chs = [stoi[c] for c in chs]\n",
    "        for i in range(len(chs)-nChars):\n",
    "            x.append(chs[i:i+nChars])\n",
    "            y.append(chs[i+nChars])\n",
    "    return (x,y)\n",
    "\n",
    "# Example 'zuzanna' becomes training example (.. -> z, ..z -> u, and so on until last nna -> .) and chars are converted to the ints\n",
    "\n",
    "nChars = 3\n",
    "print(words[-1:])\n",
    "print(build_data(words[-1:], nChars))\n"
   ]
  },
  {
   "cell_type": "code",
   "execution_count": 16,
   "id": "bc83954d",
   "metadata": {
    "scrolled": true
   },
   "outputs": [
    {
     "name": "stdout",
     "output_type": "stream",
     "text": [
      "cuda:0\n"
     ]
    },
    {
     "data": {
      "text/plain": [
       "'NVIDIA GeForce RTX 3070 Ti'"
      ]
     },
     "execution_count": 16,
     "metadata": {},
     "output_type": "execute_result"
    }
   ],
   "source": [
    "import torch\n",
    "import torch.nn.functional as F\n",
    "import random\n",
    "import matplotlib.pyplot as plt\n",
    "%matplotlib inline"
   ]
  },
  {
   "cell_type": "code",
   "execution_count": 17,
   "id": "8d886777",
   "metadata": {
    "scrolled": true
   },
   "outputs": [],
   "source": [
    "random.seed(3)\n",
    "random.shuffle(words)\n",
    "trainIdx = int(0.8*len(words))\n",
    "valIdx = int(0.9*len(words))\n",
    "\n",
    "xTrain, yTrain = build_data(words[0:trainIdx], nChars)\n",
    "xTrain = torch.tensor(xTrain)\n",
    "yTrain = torch.tensor(yTrain)\n",
    "\n",
    "xVal, yVal = build_data(words[trainIdx:valIdx], nChars)\n",
    "xVal = torch.tensor(xVal)\n",
    "yVal = torch.tensor(yVal)\n",
    "\n",
    "xTest, yTest = build_data(words[valIdx:], nChars)\n",
    "xTest = torch.tensor(xTest)\n",
    "yTest = torch.tensor(yTest)"
   ]
  },
  {
   "cell_type": "code",
   "execution_count": 18,
   "id": "8ceca121",
   "metadata": {
    "scrolled": true
   },
   "outputs": [
    {
     "name": "stdout",
     "output_type": "stream",
     "text": [
      "11897\n"
     ]
    }
   ],
   "source": [
    "g = torch.Generator().manual_seed(2147483647)\n",
    "\n",
    "nC = 10 # Look up table, can also be seen as the first layer to our network\n",
    "nHiddenN = 200 # Size of hidden layer\n",
    "\n",
    "C = torch.randn((num_of_unique_letters, nC), generator=g)\n",
    "W1 = torch.randn((nC * nChars, nHiddenN), generator=g) * ( (5/3) / (nC*nChars)**0.5 ) # kaiming init\n",
    "b1 = torch.randn(nHiddenN, generator=g) * 0.01\n",
    "W2 = torch.randn((nHiddenN, num_of_unique_letters), generator=g) * ( (5/3) / (nHiddenN)**0.5 ) # kaiming init\n",
    "b2 = torch.randn(num_of_unique_letters, generator=g) * 0.01\n",
    "\n",
    "parameters = [W1, b1, W2, b2, C]\n",
    "for p in parameters:\n",
    "    p.requires_grad = True\n",
    "    \n",
    "print(sum(p.nelement() for p in parameters))\n",
    "trL = []\n",
    "teL = []"
   ]
  },
  {
   "cell_type": "markdown",
   "id": "763ceb91",
   "metadata": {},
   "source": [
    "We could also add some search for the best hyper parameters but after testing a few different combinations it seems the architecture of the network is more important to improve on."
   ]
  },
  {
   "cell_type": "code",
   "execution_count": 19,
   "id": "48f44d97",
   "metadata": {
    "scrolled": false
   },
   "outputs": [
    {
     "name": "stdout",
     "output_type": "stream",
     "text": [
      "      0 / 200000: 3.9421\n",
      "  10000 / 200000: 2.2386\n",
      "  20000 / 200000: 2.0611\n",
      "  30000 / 200000: 2.2904\n",
      "  40000 / 200000: 1.8461\n",
      "  50000 / 200000: 2.4005\n",
      "  60000 / 200000: 2.0998\n",
      "  70000 / 200000: 1.9118\n",
      "  80000 / 200000: 1.9720\n",
      "  90000 / 200000: 1.9083\n",
      " 100000 / 200000: 2.0786\n",
      " 110000 / 200000: 2.0513\n",
      " 120000 / 200000: 1.9194\n",
      " 130000 / 200000: 2.3442\n",
      " 140000 / 200000: 2.3836\n",
      " 150000 / 200000: 2.4357\n",
      " 160000 / 200000: 2.0062\n",
      " 170000 / 200000: 2.4934\n",
      " 180000 / 200000: 2.1927\n",
      " 190000 / 200000: 2.0127\n",
      "Last tr loss: 2.2443917138877323\n"
     ]
    },
    {
     "data": {
      "image/png": "[encoded data removed]",
      "text/plain": [
       "<Figure size 640x480 with 1 Axes>"
      ]
     },
     "metadata": {},
     "output_type": "display_data"
    }
   ],
   "source": [
    "iters = 200_000\n",
    "lr = 0.1\n",
    "batch_size = 32\n",
    "\n",
    "for i in range(iters):\n",
    "    # Get mini batch idx\n",
    "    mIdx = torch.randint(0, xTrain.shape[0], (batch_size,))\n",
    "    \n",
    "    # Forward\n",
    "    emb = C[xTrain[mIdx]]\n",
    "\n",
    "    h = torch.tanh(emb.view(-1, nChars*nC) @ W1 + b1) # We use view to effiently \"squash\" the look up table's dimentions \n",
    "                                                      # in order to have them ass input to our network\n",
    "    \n",
    "    logits = h @ W2 + b2\n",
    "    loss = F.cross_entropy(logits, yTrain[mIdx])\n",
    "    trL.append(loss.log10().item())\n",
    "    \n",
    "    # Backward\n",
    "    for p in parameters:\n",
    "        p.grad = None\n",
    "    loss.backward()\n",
    "\n",
    "    # Update\n",
    "    lr = 0.01 if i < 100_000 else 0.001\n",
    "    for p in parameters:\n",
    "        p.data += -lr * p.grad\n",
    "    \n",
    "    if i % 10_000 == 0:\n",
    "        print(f'{i:7d} /{iters:7d}: {loss.item():.4f}')\n",
    "        \n",
    "plt.plot([i for i in range(len(trL))], trL, label='tr')\n",
    "plt.legend()\n",
    "print(f'Last tr loss: {10**trL[-1]}')"
   ]
  },
  {
   "cell_type": "code",
   "execution_count": 20,
   "id": "8197598c",
   "metadata": {
    "scrolled": true
   },
   "outputs": [
    {
     "data": {
      "text/plain": [
       "2.1417500972747803"
      ]
     },
     "execution_count": 20,
     "metadata": {},
     "output_type": "execute_result"
    }
   ],
   "source": [
    "# Calulate test loss\n",
    "emb = C[xTest]\n",
    "h = torch.tanh(emb.view(-1, nChars*nC) @ W1 + b1) # We use view to effiently \"squash\" the look up table's dimentions \n",
    "                                                  # in order to have them ass input to our network\n",
    "logits = h @ W2 + b2\n",
    "F.cross_entropy(logits, yTest).item()"
   ]
  },
  {
   "cell_type": "markdown",
   "id": "6592b0f1",
   "metadata": {},
   "source": [
    "Of course these losses cannot be directly compared to the previous work in the \"Simple counts and NN.ipynb\" but by looking at the names we produce can at least compare them without human interpretations."
   ]
  },
  {
   "cell_type": "code",
   "execution_count": 21,
   "id": "72972d1e",
   "metadata": {},
   "outputs": [
    {
     "name": "stdout",
     "output_type": "stream",
     "text": [
      "sir.\n",
      "gialy.\n",
      "kit.\n",
      "abya.\n",
      "maxilup.\n",
      "aszilynn.\n",
      "lick.\n",
      "janee.\n",
      "malaser.\n",
      "leigleycemarr.\n"
     ]
    }
   ],
   "source": [
    "for i in range(10):\n",
    "    out = []\n",
    "    context = [stoi[c] for c in list('.'*nChars)]\n",
    "    while True:\n",
    "        # Forward\n",
    "        emb = C[torch.tensor(context)]\n",
    "        h = torch.tanh(emb.view(-1, nChars*nC) @ W1 + b1) # We use view to effiently \"squash\" the look up table's dimentions \n",
    "                                                          # in order to have them ass input to our network\n",
    "        logits = h @ W2 + b2\n",
    "        probs = F.softmax(logits, dim=1)\n",
    "        ix = torch.multinomial(probs, num_samples=1, generator=g).item()\n",
    "        context = context[1:] + [ix]\n",
    "        out.append(ix)\n",
    "        if ix == 0:\n",
    "            break\n",
    "            \n",
    "    print(''.join(itos[i] for i in out))"
   ]
  },
  {
   "cell_type": "markdown",
   "id": "b2be3c6a",
   "metadata": {},
   "source": [
    "As we can see this method produces better names than our first attempt of both Simple counts and NN with only 1 nC and character encoding into more dimensions (instead of just numbers)."
   ]
  },
  {
   "cell_type": "code",
   "execution_count": 22,
   "id": "16d82c81",
   "metadata": {},
   "outputs": [
    {
     "name": "stdout",
     "output_type": "stream",
     "text": [
      "Cant visualize with more than 2 dims\n"
     ]
    }
   ],
   "source": [
    "if nC == 2:\n",
    "    # visualize dimensions 0 and 1 of the embedding matrix C for all characters\n",
    "    plt.figure(figsize=(8,8))\n",
    "    plt.scatter(C[:,0].data, C[:,1].data, s=200)\n",
    "    print(itos)\n",
    "    for i in range(C.shape[0]):\n",
    "        plt.text(C[i,0].item(), C[i,1].item(), itos[i], ha=\"center\", va=\"center\", color='white')\n",
    "    plt.grid('minor')\n",
    "else:\n",
    "    print(\"Cant visualize with more than 2 dims\")"
   ]
  }
 ],
 "metadata": {
  "kernelspec": {
   "display_name": "Python 3 (ipykernel)",
   "language": "python",
   "name": "python3"
  },
  "language_info": {
   "codemirror_mode": {
    "name": "ipython",
    "version": 3
   },
   "file_extension": ".py",
   "mimetype": "text/x-python",
   "name": "python",
   "nbconvert_exporter": "python",
   "pygments_lexer": "ipython3",
   "version": "3.10.8"
  }
 },
 "nbformat": 4,
 "nbformat_minor": 5
}
