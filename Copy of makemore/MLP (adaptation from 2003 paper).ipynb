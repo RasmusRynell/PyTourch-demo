{
 "cells": [
  {
   "cell_type": "code",
   "execution_count": 44,
   "id": "6e16596c",
   "metadata": {
    "scrolled": true
   },
   "outputs": [
    {
     "name": "stdout",
     "output_type": "stream",
     "text": [
      "['Åsa', 'Åse', 'Ängla']\n",
      "16626\n"
     ]
    }
   ],
   "source": [
    "words = open('swedish_names.txt', 'r', encoding='utf-8').read().splitlines()\n",
    "#words = open('names.txt', 'r', encoding='utf-8').read().splitlines()\n",
    "#words = [w.lower() for w in words if len(w) > 2] # Remove 2< longs words\n",
    "#words = [w for w in words if w.isascii() and w.isalpha()] # Remove names with åäö or that contains bad things\n",
    "#words = [w for w in words if '.' not in w]\n",
    "print(words[-3:])\n",
    "print(len(words))"
   ]
  },
  {
   "cell_type": "code",
   "execution_count": 45,
   "id": "372ca412",
   "metadata": {
    "scrolled": true
   },
   "outputs": [
    {
     "name": "stdout",
     "output_type": "stream",
     "text": [
      "84\n",
      "[' ', \"'\", '-', '.', ':', 'A', 'B', 'C', 'D', 'E', 'F', 'G', 'H', 'I', 'J', 'K', 'L', 'M', 'N', 'O', 'P', 'Q', 'R', 'S', 'T', 'U', 'V', 'W', 'X', 'Y', 'Z', 'a', 'b', 'c', 'd', 'e', 'f', 'g', 'h', 'i', 'j', 'k', 'l', 'm', 'n', 'o', 'p', 'q', 'r', 's', 't', 'u', 'v', 'w', 'x', 'y', 'z', 'Á', 'Ä', 'Å', 'É', 'Ó', 'Ö', 'Ø', 'Ü', 'à', 'á', 'ã', 'ä', 'å', 'æ', 'ç', 'è', 'é', 'ë', 'í', 'ï', 'ó', 'ô', 'ö', 'ø', 'ú', 'ü']\n"
     ]
    },
    {
     "data": {
      "text/plain": [
       "{1: ' ',\n",
       " 2: \"'\",\n",
       " 3: '-',\n",
       " 0: '.',\n",
       " 5: ':',\n",
       " 6: 'A',\n",
       " 7: 'B',\n",
       " 8: 'C',\n",
       " 9: 'D',\n",
       " 10: 'E',\n",
       " 11: 'F',\n",
       " 12: 'G',\n",
       " 13: 'H',\n",
       " 14: 'I',\n",
       " 15: 'J',\n",
       " 16: 'K',\n",
       " 17: 'L',\n",
       " 18: 'M',\n",
       " 19: 'N',\n",
       " 20: 'O',\n",
       " 21: 'P',\n",
       " 22: 'Q',\n",
       " 23: 'R',\n",
       " 24: 'S',\n",
       " 25: 'T',\n",
       " 26: 'U',\n",
       " 27: 'V',\n",
       " 28: 'W',\n",
       " 29: 'X',\n",
       " 30: 'Y',\n",
       " 31: 'Z',\n",
       " 32: 'a',\n",
       " 33: 'b',\n",
       " 34: 'c',\n",
       " 35: 'd',\n",
       " 36: 'e',\n",
       " 37: 'f',\n",
       " 38: 'g',\n",
       " 39: 'h',\n",
       " 40: 'i',\n",
       " 41: 'j',\n",
       " 42: 'k',\n",
       " 43: 'l',\n",
       " 44: 'm',\n",
       " 45: 'n',\n",
       " 46: 'o',\n",
       " 47: 'p',\n",
       " 48: 'q',\n",
       " 49: 'r',\n",
       " 50: 's',\n",
       " 51: 't',\n",
       " 52: 'u',\n",
       " 53: 'v',\n",
       " 54: 'w',\n",
       " 55: 'x',\n",
       " 56: 'y',\n",
       " 57: 'z',\n",
       " 58: 'Á',\n",
       " 59: 'Ä',\n",
       " 60: 'Å',\n",
       " 61: 'É',\n",
       " 62: 'Ó',\n",
       " 63: 'Ö',\n",
       " 64: 'Ø',\n",
       " 65: 'Ü',\n",
       " 66: 'à',\n",
       " 67: 'á',\n",
       " 68: 'ã',\n",
       " 69: 'ä',\n",
       " 70: 'å',\n",
       " 71: 'æ',\n",
       " 72: 'ç',\n",
       " 73: 'è',\n",
       " 74: 'é',\n",
       " 75: 'ë',\n",
       " 76: 'í',\n",
       " 77: 'ï',\n",
       " 78: 'ó',\n",
       " 79: 'ô',\n",
       " 80: 'ö',\n",
       " 81: 'ø',\n",
       " 82: 'ú',\n",
       " 83: 'ü'}"
      ]
     },
     "execution_count": 45,
     "metadata": {},
     "output_type": "execute_result"
    }
   ],
   "source": [
    "letters = sorted(list(set(''.join(words)))) # Get all individual letters sorted, should be alphabet (if all letters are once included in our names)\n",
    "num_of_unique_letters = len(letters) + 1 # Add 1 for '.' our special char\n",
    "stoi = {s:i+1 for i,s in enumerate(letters)} # Create a mapping from a char to a int in order to index in tensor\n",
    "stoi['.'] = 0 # Add . as a special char\n",
    "itos = {i:s for s,i in stoi.items()} # Create the mapping in reverse\n",
    "print(num_of_unique_letters)\n",
    "print(letters)\n",
    "itos"
   ]
  },
  {
   "cell_type": "code",
   "execution_count": 46,
   "id": "490f0fbd",
   "metadata": {
    "scrolled": false
   },
   "outputs": [
    {
     "name": "stdout",
     "output_type": "stream",
     "text": [
      "['Ängla']\n",
      "([[0, 0, 0], [0, 0, 59], [0, 59, 45], [59, 45, 38], [45, 38, 43], [38, 43, 32]], [59, 45, 38, 43, 32, 0])\n"
     ]
    }
   ],
   "source": [
    "def build_data(words, nChars):\n",
    "    x, y = [], []\n",
    "    for w in words:\n",
    "        chs = list('.'*nChars + w + \".\")\n",
    "        chs = [stoi[c] for c in chs]\n",
    "        for i in range(len(chs)-nChars):\n",
    "            x.append(chs[i:i+nChars])\n",
    "            y.append(chs[i+nChars])\n",
    "    return (x,y)\n",
    "\n",
    "# Example 'zuzanna' becomes training example (.. -> z, ..z -> u, and so on until last nna -> .) and chars are converted to the ints\n",
    "\n",
    "nChars = 3\n",
    "print(words[-1:])\n",
    "print(build_data(words[-1:], nChars))\n"
   ]
  },
  {
   "cell_type": "code",
   "execution_count": 47,
   "id": "bc83954d",
   "metadata": {
    "scrolled": true
   },
   "outputs": [
    {
     "name": "stdout",
     "output_type": "stream",
     "text": [
      "cuda:0\n"
     ]
    },
    {
     "data": {
      "text/plain": [
       "'NVIDIA GeForce RTX 3070 Ti'"
      ]
     },
     "execution_count": 47,
     "metadata": {},
     "output_type": "execute_result"
    }
   ],
   "source": [
    "import torch\n",
    "import torch.nn.functional as F\n",
    "import random\n",
    "import matplotlib.pyplot as plt\n",
    "%matplotlib inline\n",
    "\n",
    "device = torch.device(\"cuda:0\" if torch.cuda.is_available() else \"cpu\")\n",
    "print(device)\n",
    "torch.cuda.get_device_name(0)"
   ]
  },
  {
   "cell_type": "code",
   "execution_count": 48,
   "id": "8d886777",
   "metadata": {
    "scrolled": true
   },
   "outputs": [],
   "source": [
    "random.seed(3)\n",
    "random.shuffle(words)\n",
    "trainIdx = int(0.8*len(words))\n",
    "valIdx = int(0.9*len(words))\n",
    "\n",
    "xTrain, yTrain = build_data(words[0:trainIdx], nChars)\n",
    "xTrain = torch.tensor(xTrain)\n",
    "yTrain = torch.tensor(yTrain)\n",
    "\n",
    "xVal, yVal = build_data(words[trainIdx:valIdx], nChars)\n",
    "xVal = torch.tensor(xVal)\n",
    "yVal = torch.tensor(yVal)\n",
    "\n",
    "xTest, yTest = build_data(words[valIdx:], nChars)\n",
    "xTest = torch.tensor(xTest)\n",
    "yTest = torch.tensor(yTest)"
   ]
  },
  {
   "cell_type": "code",
   "execution_count": 49,
   "id": "8ceca121",
   "metadata": {
    "scrolled": true
   },
   "outputs": [
    {
     "name": "stdout",
     "output_type": "stream",
     "text": [
      "23924\n"
     ]
    }
   ],
   "source": [
    "g = torch.Generator().manual_seed(2147483647)\n",
    "\n",
    "nC = 10 # Look up table, can also be seen as the first layer to our network\n",
    "nHiddenN = 200 # Size of hidden layer\n",
    "\n",
    "C = torch.randn((num_of_unique_letters, nC), generator=g)\n",
    "W1 = torch.randn((nC * nChars, nHiddenN), generator=g)\n",
    "b1 = torch.randn(nHiddenN, generator=g)\n",
    "W2 = torch.randn((nHiddenN, num_of_unique_letters), generator=g)\n",
    "b2 = torch.randn(num_of_unique_letters, generator=g)\n",
    "\n",
    "parameters = [W1, b1, W2, b2, C]\n",
    "for p in parameters:\n",
    "    p.requires_grad = True\n",
    "    \n",
    "print(sum(p.nelement() for p in parameters))\n",
    "trL = []\n",
    "teL = []"
   ]
  },
  {
   "cell_type": "markdown",
   "id": "763ceb91",
   "metadata": {},
   "source": [
    "We could also add some search for the best hyper parameters but after testing a few different combinations it seems the architecture of the network is more important to improve on."
   ]
  },
  {
   "cell_type": "code",
   "execution_count": 50,
   "id": "48f44d97",
   "metadata": {
    "scrolled": false
   },
   "outputs": [
    {
     "name": "stdout",
     "output_type": "stream",
     "text": [
      "      0 / 200000: 33.3045\n",
      "  10000 / 200000: 2.1816\n",
      "  20000 / 200000: 2.2105\n",
      "  30000 / 200000: 2.5967\n",
      "  40000 / 200000: 3.1305\n",
      "  50000 / 200000: 2.4381\n",
      "  60000 / 200000: 2.2784\n",
      "  70000 / 200000: 2.3638\n",
      "  80000 / 200000: 2.2276\n",
      "  90000 / 200000: 2.2848\n",
      " 100000 / 200000: 2.7435\n",
      " 110000 / 200000: 2.3230\n",
      " 120000 / 200000: 2.6652\n",
      " 130000 / 200000: 2.0514\n",
      " 140000 / 200000: 2.2935\n",
      " 150000 / 200000: 2.2170\n",
      " 160000 / 200000: 1.6502\n",
      " 170000 / 200000: 1.8894\n",
      " 180000 / 200000: 2.1204\n",
      " 190000 / 200000: 2.2467\n"
     ]
    },
    {
     "ename": "IndexError",
     "evalue": "list index out of range",
     "output_type": "error",
     "traceback": [
      "\u001b[1;31m---------------------------------------------------------------------------\u001b[0m",
      "\u001b[1;31mIndexError\u001b[0m                                Traceback (most recent call last)",
      "Cell \u001b[1;32mIn [50], line 32\u001b[0m\n\u001b[0;32m     30\u001b[0m plt\u001b[38;5;241m.\u001b[39mplot([i \u001b[38;5;28;01mfor\u001b[39;00m i \u001b[38;5;129;01min\u001b[39;00m \u001b[38;5;28mrange\u001b[39m(\u001b[38;5;28mlen\u001b[39m(trL))], trL, label\u001b[38;5;241m=\u001b[39m\u001b[38;5;124m'\u001b[39m\u001b[38;5;124mtr\u001b[39m\u001b[38;5;124m'\u001b[39m)\n\u001b[0;32m     31\u001b[0m plt\u001b[38;5;241m.\u001b[39mlegend()\n\u001b[1;32m---> 32\u001b[0m \u001b[38;5;28mprint\u001b[39m(\u001b[38;5;124mf\u001b[39m\u001b[38;5;124m'\u001b[39m\u001b[38;5;124mLast va loss: \u001b[39m\u001b[38;5;132;01m{\u001b[39;00m\u001b[38;5;241m10\u001b[39m\u001b[38;5;241m*\u001b[39m\u001b[38;5;241m*\u001b[39mvaL[\u001b[38;5;241m-\u001b[39m\u001b[38;5;241m1\u001b[39m]\u001b[38;5;132;01m}\u001b[39;00m\u001b[38;5;124m'\u001b[39m)\n\u001b[0;32m     33\u001b[0m \u001b[38;5;28mprint\u001b[39m(\u001b[38;5;124mf\u001b[39m\u001b[38;5;124m'\u001b[39m\u001b[38;5;124mLast tr loss: \u001b[39m\u001b[38;5;132;01m{\u001b[39;00m\u001b[38;5;241m10\u001b[39m\u001b[38;5;241m*\u001b[39m\u001b[38;5;241m*\u001b[39mtrL[\u001b[38;5;241m-\u001b[39m\u001b[38;5;241m1\u001b[39m]\u001b[38;5;132;01m}\u001b[39;00m\u001b[38;5;124m'\u001b[39m)\n",
      "\u001b[1;31mIndexError\u001b[0m: list index out of range"
     ]
    },
    {
     "data": {
      "image/png": "[encoded data removed]",
      "text/plain": [
       "<Figure size 640x480 with 1 Axes>"
      ]
     },
     "metadata": {},
     "output_type": "display_data"
    }
   ],
   "source": [
    "iters = 200000\n",
    "lr = 0.1\n",
    "batch_size = 32\n",
    "\n",
    "for i in range(iters):\n",
    "    # Get mini batch idx\n",
    "    mIdx = torch.randint(0, xTrain.shape[0], (batch_size,))\n",
    "    \n",
    "    # Forward\n",
    "    emb = C[xTrain[mIdx]]\n",
    "    h = torch.tanh(emb.view(-1, nChars*nC) @ W1 + b1) # We use view to effiently \"squash\" the look up table's dimentions \n",
    "                                                      # in order to have them ass input to our network\n",
    "    logits = h @ W2 + b2\n",
    "    loss = F.cross_entropy(logits, yTrain[mIdx])\n",
    "    trL.append(loss.log10().item())\n",
    "    \n",
    "    # Backward\n",
    "    for p in parameters:\n",
    "        p.grad = None\n",
    "    loss.backward()\n",
    "\n",
    "    # Update\n",
    "    lr = 0.1 if i < 100000 else 0.01\n",
    "    for p in parameters:\n",
    "        p.data += -lr * p.grad\n",
    "    \n",
    "    if i % 10000 == 0:\n",
    "        print(f'{i:7d} /{iters:7d}: {loss.item():.4f}')\n",
    "\n",
    "plt.plot([i for i in range(len(trL))], trL, label='tr')\n",
    "plt.legend()\n",
    "print(f'Last tr loss: {10**trL[-1]}')"
   ]
  },
  {
   "cell_type": "code",
   "execution_count": 51,
   "id": "8197598c",
   "metadata": {
    "scrolled": true
   },
   "outputs": [
    {
     "data": {
      "text/plain": [
       "2.279772996902466"
      ]
     },
     "execution_count": 51,
     "metadata": {},
     "output_type": "execute_result"
    }
   ],
   "source": [
    "# Calulate test loss\n",
    "emb = C[xTest]\n",
    "h = torch.tanh(emb.view(-1, nChars*nC) @ W1 + b1) # We use view to effiently \"squash\" the look up table's dimentions \n",
    "                                                  # in order to have them ass input to our network\n",
    "logits = h @ W2 + b2\n",
    "F.cross_entropy(logits, yTest).item()"
   ]
  },
  {
   "cell_type": "markdown",
   "id": "6592b0f1",
   "metadata": {},
   "source": [
    "Of course these losses cannot be directly compared to the previous work in the \"Simple counts and NN.ipynb\" but by looking at the names we produce can at least compare them without human interpretations."
   ]
  },
  {
   "cell_type": "code",
   "execution_count": 52,
   "id": "72972d1e",
   "metadata": {},
   "outputs": [
    {
     "name": "stdout",
     "output_type": "stream",
     "text": [
      "Husen.\n",
      "Tate.\n",
      "Avdutaz.\n",
      "Lek.\n",
      "Kjell.\n",
      "Kamoneo.\n",
      "Berto.\n",
      "Ansonnidcard.\n",
      "Carios.\n",
      "Sebinabibert-Rkeg.\n"
     ]
    }
   ],
   "source": [
    "for i in range(10):\n",
    "    out = []\n",
    "    context = [stoi[c] for c in list('.'*nChars)]\n",
    "    while True:\n",
    "        # Forward\n",
    "        emb = C[torch.tensor(context)]\n",
    "        h = torch.tanh(emb.view(-1, nChars*nC) @ W1 + b1) # We use view to effiently \"squash\" the look up table's dimentions \n",
    "                                                          # in order to have them ass input to our network\n",
    "        logits = h @ W2 + b2\n",
    "        probs = F.softmax(logits, dim=1)\n",
    "        ix = torch.multinomial(probs, num_samples=1, generator=g).item()\n",
    "        context = context[1:] + [ix]\n",
    "        out.append(ix)\n",
    "        if ix == 0:\n",
    "            break\n",
    "            \n",
    "    print(''.join(itos[i] for i in out))"
   ]
  },
  {
   "cell_type": "markdown",
   "id": "b2be3c6a",
   "metadata": {},
   "source": [
    "As we can see this method produces better names than our first attempt of both Simple counts and NN with only 1 nC and character encoding into more dimensions (instead of just numbers)."
   ]
  },
  {
   "cell_type": "code",
   "execution_count": 24,
   "id": "16d82c81",
   "metadata": {},
   "outputs": [
    {
     "name": "stdout",
     "output_type": "stream",
     "text": [
      "Cant visualize with more than 2 dims\n"
     ]
    }
   ],
   "source": [
    "if nC == 2:\n",
    "    # visualize dimensions 0 and 1 of the embedding matrix C for all characters\n",
    "    plt.figure(figsize=(8,8))\n",
    "    plt.scatter(C[:,0].data, C[:,1].data, s=200)\n",
    "    print(itos)\n",
    "    for i in range(C.shape[0]):\n",
    "        plt.text(C[i,0].item(), C[i,1].item(), itos[i], ha=\"center\", va=\"center\", color='white')\n",
    "    plt.grid('minor')\n",
    "else:\n",
    "    print(\"Cant visualize with more than 2 dims\")"
   ]
  }
 ],
 "metadata": {
  "kernelspec": {
   "display_name": "Python 3 (ipykernel)",
   "language": "python",
   "name": "python3"
  },
  "language_info": {
   "codemirror_mode": {
    "name": "ipython",
    "version": 3
   },
   "file_extension": ".py",
   "mimetype": "text/x-python",
   "name": "python",
   "nbconvert_exporter": "python",
   "pygments_lexer": "ipython3",
   "version": "3.10.8"
  }
 },
 "nbformat": 4,
 "nbformat_minor": 5
}
