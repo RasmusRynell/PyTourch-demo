{
 "cells": [
  {
   "cell_type": "code",
   "execution_count": 116,
   "id": "6e16596c",
   "metadata": {
    "scrolled": true
   },
   "outputs": [
    {
     "name": "stdout",
     "output_type": "stream",
     "text": [
      "['Åsa', 'Åse', 'Ängla']\n",
      "16626\n"
     ]
    }
   ],
   "source": [
    "words = open('swedish_names.txt', 'r', encoding='utf-8').read().splitlines()\n",
    "#words = [w.lower() for w in words if len(w) > 2] # Remove 2< longs words\n",
    "#words = [w for w in words if w.isascii() and w.isalpha()] # Remove names with åäö or that contains bad things\n",
    "print(words[-3:])\n",
    "print(len(words))"
   ]
  },
  {
   "cell_type": "code",
   "execution_count": 126,
   "id": "372ca412",
   "metadata": {
    "scrolled": true
   },
   "outputs": [
    {
     "name": "stdout",
     "output_type": "stream",
     "text": [
      "84\n",
      "[' ', \"'\", '-', '.', ':', 'A', 'B', 'C', 'D', 'E', 'F', 'G', 'H', 'I', 'J', 'K', 'L', 'M', 'N', 'O', 'P', 'Q', 'R', 'S', 'T', 'U', 'V', 'W', 'X', 'Y', 'Z', 'a', 'b', 'c', 'd', 'e', 'f', 'g', 'h', 'i', 'j', 'k', 'l', 'm', 'n', 'o', 'p', 'q', 'r', 's', 't', 'u', 'v', 'w', 'x', 'y', 'z', 'Á', 'Ä', 'Å', 'É', 'Ó', 'Ö', 'Ø', 'Ü', 'à', 'á', 'ã', 'ä', 'å', 'æ', 'ç', 'è', 'é', 'ë', 'í', 'ï', 'ó', 'ô', 'ö', 'ø', 'ú', 'ü']\n"
     ]
    }
   ],
   "source": [
    "letters = sorted(list(set(''.join(words)))) # Get all individual letters sorted, should be alphabet (if all letters are once included in our names)\n",
    "num_of_unique_letters = len(letters) + 1 # Add 1 for '.' our special char\n",
    "stoi = {s:i+1 for i,s in enumerate(letters)} # Create a mapping from a char to a int in order to index in tensor\n",
    "stoi['.'] = 0 # Add . as a special char\n",
    "itos = {i:s for s,i in stoi.items()} # Create the mapping in reverse\n",
    "print(num_of_unique_letters)\n",
    "print(letters)"
   ]
  },
  {
   "cell_type": "code",
   "execution_count": 118,
   "id": "490f0fbd",
   "metadata": {
    "scrolled": false
   },
   "outputs": [
    {
     "name": "stdout",
     "output_type": "stream",
     "text": [
      "['Ängla']\n",
      "([[0, 0, 0, 0, 0], [0, 0, 0, 0, 59], [0, 0, 0, 59, 45], [0, 0, 59, 45, 38], [0, 59, 45, 38, 43], [59, 45, 38, 43, 32]], [59, 45, 38, 43, 32, 0])\n"
     ]
    }
   ],
   "source": [
    "def build_data(words, nChars):\n",
    "    x, y = [], []\n",
    "    for w in words:\n",
    "        chs = list('.'*nChars + w + \".\")\n",
    "        chs = [stoi[c] for c in chs]\n",
    "        for i in range(len(chs)-nChars):\n",
    "            x.append(chs[i:i+nChars])\n",
    "            y.append(chs[i+nChars])\n",
    "    return (x,y)\n",
    "\n",
    "# Example 'zuzanna' becomes training example (.. -> z, ..z -> u, and so on until last nna -> .) and chars are converted to the ints\n",
    "\n",
    "nChars = 5\n",
    "print(words[-1:])\n",
    "print(build_data(words[-1:], nChars))\n"
   ]
  },
  {
   "cell_type": "code",
   "execution_count": 119,
   "id": "bc83954d",
   "metadata": {
    "scrolled": true
   },
   "outputs": [
    {
     "name": "stdout",
     "output_type": "stream",
     "text": [
      "cuda:0\n"
     ]
    },
    {
     "data": {
      "text/plain": [
       "'NVIDIA GeForce RTX 3070 Ti'"
      ]
     },
     "execution_count": 119,
     "metadata": {},
     "output_type": "execute_result"
    }
   ],
   "source": [
    "import torch\n",
    "import torch.nn.functional as F\n",
    "import random\n",
    "import matplotlib.pyplot as plt\n",
    "%matplotlib inline\n",
    "\n",
    "device = torch.device(\"cuda:0\" if torch.cuda.is_available() else \"cpu\")\n",
    "print(device)\n",
    "torch.cuda.get_device_name(0)"
   ]
  },
  {
   "cell_type": "code",
   "execution_count": 120,
   "id": "8d886777",
   "metadata": {
    "scrolled": true
   },
   "outputs": [],
   "source": [
    "random.seed(3)\n",
    "random.shuffle(words)\n",
    "trainIdx = int(0.8*len(words))\n",
    "valIdx = int(0.9*len(words))\n",
    "\n",
    "xTrain, yTrain = build_data(words[0:trainIdx], nChars)\n",
    "xTrain = torch.tensor(xTrain)\n",
    "yTrain = torch.tensor(yTrain)\n",
    "\n",
    "xVal, yVal = build_data(words[trainIdx:valIdx], nChars)\n",
    "xVal = torch.tensor(xVal)\n",
    "yVal = torch.tensor(yVal)\n",
    "\n",
    "xTest, yTest = build_data(words[valIdx:], nChars)\n",
    "xTest = torch.tensor(xTest)\n",
    "yTest = torch.tensor(yTest)"
   ]
  },
  {
   "cell_type": "code",
   "execution_count": 121,
   "id": "8ceca121",
   "metadata": {
    "scrolled": true
   },
   "outputs": [],
   "source": [
    "g = torch.Generator().manual_seed(3)\n",
    "\n",
    "# Look up table, can also be seen as the first layer to our network\n",
    "nC = 10\n",
    "C = torch.randn((num_of_unique_letters, nC), generator=g)\n",
    "\n",
    "# Size of hidden layer\n",
    "nHiddenN = 250\n",
    "W1 = torch.randn((nChars*nC, nHiddenN), generator=g)\n",
    "b1 = torch.randn(nHiddenN, generator=g)\n",
    "W2 = torch.randn((nHiddenN, num_of_unique_letters), generator=g)\n",
    "b2 = torch.randn(num_of_unique_letters, generator=g)\n",
    "\n",
    "parameters = [W1, b1, W2, b2, C]\n",
    "for p in parameters:\n",
    "    p.requires_grad = True\n",
    "    \n",
    "sum(p.nelement() for p in parameters)\n",
    "trL = []\n",
    "vaL = []\n",
    "vaI = 0\n",
    "teL = []\n",
    "lr = 0.05"
   ]
  },
  {
   "cell_type": "code",
   "execution_count": 122,
   "id": "48f44d97",
   "metadata": {
    "scrolled": false
   },
   "outputs": [
    {
     "name": "stdout",
     "output_type": "stream",
     "text": [
      "Va loss: 4.064325887753912\n",
      "Tr loss: 3.645554411149659\n"
     ]
    },
    {
     "data": {
      "image/png": "[encoded data removed]",
      "text/plain": [
       "<Figure size 640x480 with 1 Axes>"
      ]
     },
     "metadata": {},
     "output_type": "display_data"
    }
   ],
   "source": [
    "iters = 5_000\n",
    "for i in range(iters):\n",
    "    # Get mini batch idx\n",
    "    mIdx = torch.randint(0, xTrain.shape[0], (128,))\n",
    "    \n",
    "    # Forward\n",
    "    emb = C[xTrain[mIdx]]\n",
    "    h = torch.tanh(emb.view(-1, nChars*nC) @ W1 + b1) # We use view to effiently \"squash\" the look up table's dimentions \n",
    "                                                      # in order to have them ass input to our network\n",
    "    logits = h @ W2 + b2\n",
    "    loss = F.cross_entropy(logits, yTrain[mIdx])\n",
    "    trL.append(loss.log10().item())\n",
    "    \n",
    "    # Backward\n",
    "    for p in parameters:\n",
    "        p.grad = None\n",
    "    loss.backward()\n",
    "\n",
    "    # Update\n",
    "    if i == iters/2:\n",
    "        lr = lr/10\n",
    "    for p in parameters:\n",
    "        p.data += -lr * p.grad\n",
    "    \n",
    "    \n",
    "    # Calulate Validation acc\n",
    "    if (i % (iters/100)) == 0:\n",
    "        emb = C[xVal]\n",
    "        h = torch.tanh(emb.view(-1, nChars*nC) @ W1 + b1) # We use view to effiently \"squash\" the look up table's dimentions \n",
    "                                                          # in order to have them ass input to our network\n",
    "        logits = h @ W2 + b2\n",
    "        vaL.append(F.cross_entropy(logits, yVal).log10().item())\n",
    "        vaI += 1\n",
    "\n",
    "plt.plot([i for i in range(len(trL))], trL, label='tr')\n",
    "plt.plot([i*(iters/100) for i in range(vaI)], vaL, label='va')\n",
    "plt.legend()\n",
    "print(f'Va loss: {10**vaL[-1]}')\n",
    "print(f'Tr loss: {10**trL[-1]}')"
   ]
  },
  {
   "cell_type": "code",
   "execution_count": 123,
   "id": "8197598c",
   "metadata": {
    "scrolled": true
   },
   "outputs": [
    {
     "data": {
      "text/plain": [
       "3.9895753860473633"
      ]
     },
     "execution_count": 123,
     "metadata": {},
     "output_type": "execute_result"
    }
   ],
   "source": [
    "# Calulate test loss\n",
    "emb = C[xTest]\n",
    "h = torch.tanh(emb.view(-1, nChars*nC) @ W1 + b1) # We use view to effiently \"squash\" the look up table's dimentions \n",
    "                                                  # in order to have them ass input to our network\n",
    "logits = h @ W2 + b2\n",
    "F.cross_entropy(logits, yTest).item()"
   ]
  },
  {
   "cell_type": "code",
   "execution_count": 131,
   "id": "48b19ea3",
   "metadata": {},
   "outputs": [
    {
     "name": "stdout",
     "output_type": "stream",
     "text": [
      "Driund.\n",
      "Larkm.\n",
      "Marin.\n",
      "Nicoz.\n",
      "Fikrt Ollo.\n",
      "Mergil.\n",
      "Anteerd.\n",
      "Hochur.\n",
      "Ybhhah.\n",
      "Stef-Tgeas.\n"
     ]
    }
   ],
   "source": [
    "for i in range(10):\n",
    "    out = []\n",
    "    context = [stoi[c] for c in list('.'*nChars)]\n",
    "    while True:\n",
    "        # Forward\n",
    "        emb = C[torch.tensor(context)]\n",
    "        h = torch.tanh(emb.view(-1, nChars*nC) @ W1 + b1) # We use view to effiently \"squash\" the look up table's dimentions \n",
    "                                                          # in order to have them ass input to our network\n",
    "        logits = h @ W2 + b2\n",
    "        probs = F.softmax(logits, dim=1)\n",
    "        ix = torch.multinomial(probs, num_samples=1, generator=g).item()\n",
    "        context = context[1:] + [ix]\n",
    "        out.append(ix)\n",
    "        if ix == 0:\n",
    "            break\n",
    "            \n",
    "    print(''.join(itos[i] for i in out))"
   ]
  }
 ],
 "metadata": {
  "kernelspec": {
   "display_name": "Python 3 (ipykernel)",
   "language": "python",
   "name": "python3"
  },
  "language_info": {
   "codemirror_mode": {
    "name": "ipython",
    "version": 3
   },
   "file_extension": ".py",
   "mimetype": "text/x-python",
   "name": "python",
   "nbconvert_exporter": "python",
   "pygments_lexer": "ipython3",
   "version": "3.10.8"
  }
 },
 "nbformat": 4,
 "nbformat_minor": 5
}
