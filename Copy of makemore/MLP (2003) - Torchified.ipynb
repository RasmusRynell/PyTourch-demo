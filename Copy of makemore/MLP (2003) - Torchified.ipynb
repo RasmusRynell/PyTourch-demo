{
 "cells": [
  {
   "cell_type": "code",
   "execution_count": 108,
   "id": "f154637b",
   "metadata": {},
   "outputs": [
    {
     "name": "stdout",
     "output_type": "stream",
     "text": [
      "['zyrie', 'zyron', 'zzyzx']\n",
      "32033\n"
     ]
    }
   ],
   "source": [
    "words = open('names.txt', 'r', encoding='utf-8').read().splitlines()\n",
    "print(words[-3:])\n",
    "print(len(words))"
   ]
  },
  {
   "cell_type": "code",
   "execution_count": 109,
   "id": "04a02682",
   "metadata": {},
   "outputs": [
    {
     "name": "stdout",
     "output_type": "stream",
     "text": [
      "27\n",
      "['a', 'b', 'c', 'd', 'e', 'f', 'g', 'h', 'i', 'j', 'k', 'l', 'm', 'n', 'o', 'p', 'q', 'r', 's', 't', 'u', 'v', 'w', 'x', 'y', 'z']\n"
     ]
    },
    {
     "data": {
      "text/plain": [
       "{1: 'a',\n",
       " 2: 'b',\n",
       " 3: 'c',\n",
       " 4: 'd',\n",
       " 5: 'e',\n",
       " 6: 'f',\n",
       " 7: 'g',\n",
       " 8: 'h',\n",
       " 9: 'i',\n",
       " 10: 'j',\n",
       " 11: 'k',\n",
       " 12: 'l',\n",
       " 13: 'm',\n",
       " 14: 'n',\n",
       " 15: 'o',\n",
       " 16: 'p',\n",
       " 17: 'q',\n",
       " 18: 'r',\n",
       " 19: 's',\n",
       " 20: 't',\n",
       " 21: 'u',\n",
       " 22: 'v',\n",
       " 23: 'w',\n",
       " 24: 'x',\n",
       " 25: 'y',\n",
       " 26: 'z',\n",
       " 0: '.'}"
      ]
     },
     "execution_count": 109,
     "metadata": {},
     "output_type": "execute_result"
    }
   ],
   "source": [
    "letters = sorted(list(set(''.join(words)))) # Get all individual letters sorted, should be alphabet (if all letters are once included in our names)\n",
    "num_of_unique_letters = len(letters) + 1 # Add 1 for '.' our special char\n",
    "stoi = {s:i+1 for i,s in enumerate(letters)} # Create a mapping from a char to a int in order to index in tensor\n",
    "stoi['.'] = 0 # Add . as a special char\n",
    "itos = {i:s for s,i in stoi.items()} # Create the mapping in reverse\n",
    "print(num_of_unique_letters)\n",
    "print(letters)\n",
    "itos"
   ]
  },
  {
   "cell_type": "code",
   "execution_count": 110,
   "id": "991ca757",
   "metadata": {},
   "outputs": [
    {
     "name": "stdout",
     "output_type": "stream",
     "text": [
      "['zzyzx']\n",
      "([[0, 0, 0], [0, 0, 26], [0, 26, 26], [26, 26, 25], [26, 25, 26], [25, 26, 24]], [26, 26, 25, 26, 24, 0])\n"
     ]
    }
   ],
   "source": [
    "def build_data(words, nChars):\n",
    "    x, y = [], []\n",
    "    for w in words:\n",
    "        chs = list('.'*nChars + w + \".\")\n",
    "        chs = [stoi[c] for c in chs]\n",
    "        for i in range(len(chs)-nChars):\n",
    "            x.append(chs[i:i+nChars])\n",
    "            y.append(chs[i+nChars])\n",
    "    return (x,y)\n",
    "\n",
    "# Example 'zuzanna' becomes training example (.. -> z, ..z -> u, and so on until last nna -> .) and chars are converted to the ints\n",
    "\n",
    "nChars = 3\n",
    "print(words[-1:])\n",
    "print(build_data(words[-1:], nChars))"
   ]
  },
  {
   "cell_type": "code",
   "execution_count": 111,
   "id": "79b158db",
   "metadata": {
    "scrolled": true
   },
   "outputs": [],
   "source": [
    "import torch\n",
    "import torch.nn.functional as F\n",
    "import torch.nn as nn\n",
    "import random\n",
    "import matplotlib.pyplot as plt\n",
    "%matplotlib inline"
   ]
  },
  {
   "cell_type": "code",
   "execution_count": 112,
   "id": "80648b9b",
   "metadata": {},
   "outputs": [
    {
     "name": "stdout",
     "output_type": "stream",
     "text": [
      "Net(\n",
      "  (l1): Linear(in_features=15, out_features=100, bias=False)\n",
      "  (bn1): BatchNorm1d(100, eps=1e-05, momentum=0.1, affine=True, track_running_stats=True)\n",
      "  (tanh1): Tanh()\n",
      "  (l2): Linear(in_features=100, out_features=100, bias=False)\n",
      "  (bn2): BatchNorm1d(100, eps=1e-05, momentum=0.1, affine=True, track_running_stats=True)\n",
      "  (tanh2): Tanh()\n",
      "  (l3): Linear(in_features=100, out_features=100, bias=False)\n",
      "  (bn3): BatchNorm1d(100, eps=1e-05, momentum=0.1, affine=True, track_running_stats=True)\n",
      "  (tanh3): Tanh()\n",
      "  (l4): Linear(in_features=100, out_features=100, bias=False)\n",
      "  (bn4): BatchNorm1d(100, eps=1e-05, momentum=0.1, affine=True, track_running_stats=True)\n",
      "  (tanh4): Tanh()\n",
      "  (l5): Linear(in_features=100, out_features=27, bias=False)\n",
      "  (bn5): BatchNorm1d(27, eps=1e-05, momentum=0.1, affine=True, track_running_stats=True)\n",
      ")\n"
     ]
    }
   ],
   "source": [
    "g = torch.Generator().manual_seed(2147483647)\n",
    "\n",
    "random.shuffle(words)\n",
    "trainIdx = int(0.8*len(words))\n",
    "valIdx = int(0.9*len(words))\n",
    "\n",
    "xTrain, yTrain = build_data(words[0:trainIdx], nChars)\n",
    "xTrain = torch.tensor(xTrain)\n",
    "yTrain = torch.tensor(yTrain)\n",
    "\n",
    "xVal, yVal = build_data(words[trainIdx:valIdx], nChars)\n",
    "xVal = torch.tensor(xVal)\n",
    "yVal = torch.tensor(yVal)\n",
    "\n",
    "xTest, yTest = build_data(words[valIdx:], nChars)\n",
    "xTest = torch.tensor(xTest)\n",
    "yTest = torch.tensor(yTest)\n",
    "\n",
    "\n",
    "nC = 5 # Look up table, can also be seen as the first layer to our network\n",
    "nHiddenN = 100 # Size of hidden layer\n",
    "\n",
    "C = torch.randn((num_of_unique_letters, nC), generator=g)\n",
    "\n",
    "class Net(nn.Module):\n",
    "    def __init__(self):\n",
    "        super(Net, self).__init__()\n",
    "        \n",
    "        self.l1 = torch.nn.Linear(nC*nChars, nHiddenN, bias=False)\n",
    "        self.bn1 = torch.nn.BatchNorm1d(nHiddenN)\n",
    "        self.tanh1 = torch.nn.Tanh()\n",
    "        \n",
    "        self.l2 = torch.nn.Linear(nHiddenN, nHiddenN, bias=False)\n",
    "        self.bn2 = torch.nn.BatchNorm1d(nHiddenN)\n",
    "        self.tanh2 = torch.nn.Tanh()\n",
    "        \n",
    "        self.l3 = torch.nn.Linear(nHiddenN, nHiddenN, bias=False)\n",
    "        self.bn3 = torch.nn.BatchNorm1d(nHiddenN)\n",
    "        self.tanh3 = torch.nn.Tanh()\n",
    "        \n",
    "        self.l4 = torch.nn.Linear(nHiddenN, nHiddenN, bias=False)\n",
    "        self.bn4 = torch.nn.BatchNorm1d(nHiddenN)\n",
    "        self.tanh4 = torch.nn.Tanh()\n",
    "\n",
    "        self.l5 = torch.nn.Linear(nHiddenN, num_of_unique_letters, bias=False)\n",
    "        self.bn5 = torch.nn.BatchNorm1d(num_of_unique_letters)\n",
    "        \n",
    "    def forward(self, x):\n",
    "        x = self.l1(x)\n",
    "        x = self.bn1(x)\n",
    "        x = self.tanh1(x)\n",
    "        \n",
    "        x = self.l2(x)\n",
    "        x = self.bn2(x)\n",
    "        x = self.tanh2(x)\n",
    "        \n",
    "        x = self.l3(x)\n",
    "        x = self.bn3(x)\n",
    "        x = self.tanh3(x)\n",
    "        \n",
    "        x = self.l4(x)\n",
    "        x = self.bn4(x)\n",
    "        x = self.tanh4(x)\n",
    "        \n",
    "        x = self.l5(x)\n",
    "        x = self.bn5(x)\n",
    "        return x\n",
    "    \n",
    "net = Net()\n",
    "print(net)\n",
    "\n",
    "loss_fn = F.cross_entropy\n",
    "optimizer = torch.optim.Adam(net.parameters(), lr=0.1)\n",
    "\n",
    "trL = []\n",
    "vaL = []"
   ]
  },
  {
   "cell_type": "code",
   "execution_count": 113,
   "id": "c2af0c56",
   "metadata": {},
   "outputs": [
    {
     "name": "stdout",
     "output_type": "stream",
     "text": [
      "      0/ 100000: tr: 3.9056, va: 3.6515\n",
      "   5000/ 100000: tr: 2.8719, va: 2.2841\n",
      "  10000/ 100000: tr: 2.1946, va: 2.2333\n",
      "  15000/ 100000: tr: 2.1966, va: 2.2146\n",
      "  20000/ 100000: tr: 2.4428, va: 2.2018\n",
      "  25000/ 100000: tr: 2.1555, va: 2.1916\n",
      "  30000/ 100000: tr: 2.3345, va: 2.1833\n",
      "  35000/ 100000: tr: 2.2818, va: 2.1730\n",
      "  40000/ 100000: tr: 1.8767, va: 2.1641\n",
      "  45000/ 100000: tr: 2.2050, va: 2.1638\n",
      "  50000/ 100000: tr: 2.0013, va: 2.1611\n",
      "  55000/ 100000: tr: 2.3263, va: 2.1599\n",
      "  60000/ 100000: tr: 2.1736, va: 2.1516\n",
      "  65000/ 100000: tr: 2.3706, va: 2.1587\n",
      "  70000/ 100000: tr: 2.1235, va: 2.1517\n",
      "  75000/ 100000: tr: 2.3781, va: 2.1497\n",
      "  80000/ 100000: tr: 2.0657, va: 2.1410\n",
      "  85000/ 100000: tr: 2.5110, va: 2.1414\n",
      "  90000/ 100000: tr: 2.2056, va: 2.1435\n",
      "  95000/ 100000: tr: 1.9360, va: 2.1383\n"
     ]
    }
   ],
   "source": [
    "epochs = 100_000\n",
    "batch_size = 32\n",
    "optimizer = torch.optim.Adam(net.parameters(), lr=0.01)\n",
    "\n",
    "for epoch in range(epochs):\n",
    "\n",
    "    # minibatch construct\n",
    "    mIdx = torch.randint(0, xTrain.shape[0], (batch_size,))\n",
    "    Yb = yTrain[mIdx] # batch Y\n",
    "    \n",
    "    # forward pass\n",
    "    emb = C[xTrain[mIdx]] # embed the characters into vectors\n",
    "    x = emb.view(emb.shape[0], -1) # concatenate the vectors\n",
    "    \n",
    "    x = net.forward(x)\n",
    "    loss = loss_fn(x, Yb) # loss function\n",
    "\n",
    "    # backward pass\n",
    "    optimizer.zero_grad()\n",
    "    loss.backward()\n",
    "\n",
    "    # update\n",
    "    optimizer.step()\n",
    "\n",
    "    # track stats\n",
    "    if epoch % 5_000 == 0: # print every once in a while\n",
    "        Yb = yVal\n",
    "        emb = C[xVal]\n",
    "        x = emb.view(emb.shape[0], -1)\n",
    "        x = net(x)\n",
    "        vaLoss = loss_fn(x, Yb)\n",
    "        vaL.append(loss.log10().item())\n",
    "        \n",
    "        print(f'{epoch:7d}/{epochs:7d}: tr: {loss.item():.4f}, va: {vaLoss.item():.4f}')\n",
    "        \n",
    "        \n",
    "        \n",
    "    trL.append(loss.log10().item())\n",
    "\n"
   ]
  },
  {
   "cell_type": "code",
   "execution_count": 114,
   "id": "c1646e70",
   "metadata": {},
   "outputs": [
    {
     "data": {
      "text/plain": [
       "tensor([3.2958])"
      ]
     },
     "execution_count": 114,
     "metadata": {},
     "output_type": "execute_result"
    }
   ],
   "source": [
    "# Theoretical first loss should be around:\n",
    "-torch.tensor([1/27]).log()"
   ]
  },
  {
   "cell_type": "code",
   "execution_count": 115,
   "id": "66e5a47e",
   "metadata": {},
   "outputs": [
    {
     "data": {
      "text/plain": [
       "[<matplotlib.lines.Line2D at 0x225a0bd0730>]"
      ]
     },
     "execution_count": 115,
     "metadata": {},
     "output_type": "execute_result"
    },
    {
     "data": {
      "image/png": "[encoded data removed]",
      "text/plain": [
       "<Figure size 640x480 with 1 Axes>"
      ]
     },
     "metadata": {},
     "output_type": "display_data"
    }
   ],
   "source": [
    "plt.plot(trL)"
   ]
  },
  {
   "cell_type": "code",
   "execution_count": 116,
   "id": "95afc899",
   "metadata": {},
   "outputs": [
    {
     "data": {
      "text/plain": [
       "[<matplotlib.lines.Line2D at 0x225a0a16140>]"
      ]
     },
     "execution_count": 116,
     "metadata": {},
     "output_type": "execute_result"
    },
    {
     "data": {
      "image/png": "[encoded data removed]",
      "text/plain": [
       "<Figure size 640x480 with 1 Axes>"
      ]
     },
     "metadata": {},
     "output_type": "display_data"
    }
   ],
   "source": [
    "plt.plot(vaL)"
   ]
  }
 ],
 "metadata": {
  "kernelspec": {
   "display_name": "Python 3 (ipykernel)",
   "language": "python",
   "name": "python3"
  },
  "language_info": {
   "codemirror_mode": {
    "name": "ipython",
    "version": 3
   },
   "file_extension": ".py",
   "mimetype": "text/x-python",
   "name": "python",
   "nbconvert_exporter": "python",
   "pygments_lexer": "ipython3",
   "version": "3.10.8"
  }
 },
 "nbformat": 4,
 "nbformat_minor": 5
}
