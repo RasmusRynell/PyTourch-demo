{
 "cells": [
  {
   "cell_type": "code",
   "execution_count": 1,
   "id": "f154637b",
   "metadata": {},
   "outputs": [
    {
     "name": "stdout",
     "output_type": "stream",
     "text": [
      "['zyrie', 'zyron', 'zzyzx']\n",
      "32033\n"
     ]
    }
   ],
   "source": [
    "words = open('names.txt', 'r', encoding='utf-8').read().splitlines()\n",
    "print(words[-3:])\n",
    "print(len(words))"
   ]
  },
  {
   "cell_type": "code",
   "execution_count": 2,
   "id": "04a02682",
   "metadata": {},
   "outputs": [
    {
     "name": "stdout",
     "output_type": "stream",
     "text": [
      "27\n",
      "['a', 'b', 'c', 'd', 'e', 'f', 'g', 'h', 'i', 'j', 'k', 'l', 'm', 'n', 'o', 'p', 'q', 'r', 's', 't', 'u', 'v', 'w', 'x', 'y', 'z']\n"
     ]
    }
   ],
   "source": [
    "letters = sorted(list(set(''.join(words)))) # Get all individual letters sorted, should be alphabet (if all letters are once included in our names)\n",
    "num_of_unique_letters = len(letters) + 1 # Add 1 for '.' our special char\n",
    "stoi = {s:i+1 for i,s in enumerate(letters)} # Create a mapping from a char to a int in order to index in tensor\n",
    "stoi['.'] = 0 # Add . as a special char\n",
    "itos = {i:s for s,i in stoi.items()} # Create the mapping in reverse\n",
    "print(num_of_unique_letters)\n",
    "print(letters)"
   ]
  },
  {
   "cell_type": "code",
   "execution_count": 3,
   "id": "991ca757",
   "metadata": {},
   "outputs": [
    {
     "name": "stdout",
     "output_type": "stream",
     "text": [
      "['zzyzx']\n",
      "([[0, 0, 0], [0, 0, 26], [0, 26, 26], [26, 26, 25], [26, 25, 26], [25, 26, 24]], [26, 26, 25, 26, 24, 0])\n"
     ]
    }
   ],
   "source": [
    "def build_data(words, nChars):\n",
    "    x, y = [], []\n",
    "    for w in words:\n",
    "        chs = list('.'*nChars + w + \".\")\n",
    "        chs = [stoi[c] for c in chs]\n",
    "        for i in range(len(chs)-nChars):\n",
    "            x.append(chs[i:i+nChars])\n",
    "            y.append(chs[i+nChars])\n",
    "    return (x,y)\n",
    "\n",
    "# Example 'zuzanna' becomes training example (.. -> z, ..z -> u, and so on until last nna -> .) and chars are converted to the ints\n",
    "\n",
    "nChars = 3\n",
    "print(words[-1:])\n",
    "print(build_data(words[-1:], nChars))"
   ]
  },
  {
   "cell_type": "code",
   "execution_count": 4,
   "id": "79b158db",
   "metadata": {
    "scrolled": true
   },
   "outputs": [],
   "source": [
    "import torch\n",
    "import torch.nn.functional as F\n",
    "import torch.nn as nn\n",
    "import random\n",
    "import matplotlib.pyplot as plt\n",
    "%matplotlib inline"
   ]
  },
  {
   "cell_type": "code",
   "execution_count": 5,
   "id": "80648b9b",
   "metadata": {},
   "outputs": [],
   "source": [
    "g = torch.Generator().manual_seed(2147483647)\n",
    "\n",
    "random.shuffle(words)\n",
    "trainIdx = int(0.8*len(words))\n",
    "valIdx = int(0.9*len(words))\n",
    "\n",
    "xTrain, yTrain = build_data(words[0:trainIdx], nChars)\n",
    "xTrain = torch.tensor(xTrain)\n",
    "yTrain = torch.tensor(yTrain)\n",
    "\n",
    "xVal, yVal = build_data(words[trainIdx:valIdx], nChars)\n",
    "xVal = torch.tensor(xVal)\n",
    "yVal = torch.tensor(yVal)\n",
    "\n",
    "xTest, yTest = build_data(words[valIdx:], nChars)\n",
    "xTest = torch.tensor(xTest)\n",
    "yTest = torch.tensor(yTest)\n",
    "\n",
    "\n",
    "nC = 5 # Look up table, can also be seen as the first layer to our network\n",
    "nHiddenN = 100 # Size of hidden layer\n",
    "\n",
    "C = torch.randn((num_of_unique_letters, nC), generator=g)\n",
    "\n",
    "class Net(nn.Module):\n",
    "    def __init__(self):\n",
    "        super(Net, self).__init__()\n",
    "        \n",
    "        self.l1 = torch.nn.Linear(nC*nChars, nHiddenN, bias=False)\n",
    "        self.bn1 = torch.nn.BatchNorm1d(nHiddenN)\n",
    "        self.tanh1 = torch.nn.Tanh()\n",
    "        \n",
    "        self.l2 = torch.nn.Linear(nHiddenN, nHiddenN, bias=False)\n",
    "        self.bn2 = torch.nn.BatchNorm1d(nHiddenN)\n",
    "        self.tanh2 = torch.nn.Tanh()\n",
    "        \n",
    "        self.l3 = torch.nn.Linear(nHiddenN, nHiddenN, bias=False)\n",
    "        self.bn3 = torch.nn.BatchNorm1d(nHiddenN)\n",
    "        self.tanh3 = torch.nn.Tanh()\n",
    "        \n",
    "        self.l4 = torch.nn.Linear(nHiddenN, nHiddenN, bias=False)\n",
    "        self.bn4 = torch.nn.BatchNorm1d(nHiddenN)\n",
    "        self.tanh4 = torch.nn.Tanh()\n",
    "\n",
    "        self.l5 = torch.nn.Linear(nHiddenN, num_of_unique_letters, bias=False)\n",
    "        self.bn5 = torch.nn.BatchNorm1d(num_of_unique_letters)\n",
    "        \n",
    "    def forward(self, x):\n",
    "        x = self.l1(x)\n",
    "        x = self.bn1(x)\n",
    "        x = self.tanh1(x)\n",
    "        \n",
    "        x = self.l2(x)\n",
    "        x = self.bn2(x)\n",
    "        x = self.tanh2(x)\n",
    "        \n",
    "        x = self.l3(x)\n",
    "        x = self.bn3(x)\n",
    "        x = self.tanh3(x)\n",
    "        \n",
    "        x = self.l4(x)\n",
    "        x = self.bn4(x)\n",
    "        x = self.tanh4(x)\n",
    "        \n",
    "        x = self.l5(x)\n",
    "        x = self.bn5(x)\n",
    "        return x\n",
    "    \n",
    "net = Net()\n",
    "\n",
    "loss_fn = F.cross_entropy\n",
    "optimizer = torch.optim.Adam(net.parameters(), lr=0.01)\n",
    "\n",
    "trL = []\n",
    "vaL = []"
   ]
  },
  {
   "cell_type": "code",
   "execution_count": 6,
   "id": "c2af0c56",
   "metadata": {},
   "outputs": [
    {
     "name": "stdout",
     "output_type": "stream",
     "text": [
      "      0/ 100000: tr: 3.9104, va: 3.6842\n",
      "   5000/ 100000: tr: 2.1997, va: 2.3136\n",
      "  10000/ 100000: tr: 2.5584, va: 2.2622\n",
      "  15000/ 100000: tr: 2.5621, va: 2.2352\n",
      "  20000/ 100000: tr: 2.2948, va: 2.2256\n",
      "  25000/ 100000: tr: 2.3774, va: 2.2163\n",
      "  30000/ 100000: tr: 2.4081, va: 2.2154\n",
      "  35000/ 100000: tr: 2.6225, va: 2.2006\n",
      "  40000/ 100000: tr: 2.1638, va: 2.1895\n",
      "  45000/ 100000: tr: 2.1723, va: 2.1862\n",
      "  50000/ 100000: tr: 2.6313, va: 2.1853\n",
      "  55000/ 100000: tr: 2.2060, va: 2.1786\n",
      "  60000/ 100000: tr: 2.2126, va: 2.1670\n",
      "  65000/ 100000: tr: 2.6111, va: 2.1721\n",
      "  70000/ 100000: tr: 2.4014, va: 2.1645\n",
      "  75000/ 100000: tr: 2.6584, va: 2.1700\n",
      "  80000/ 100000: tr: 2.0663, va: 2.1659\n",
      "  85000/ 100000: tr: 2.4392, va: 2.1641\n",
      "  90000/ 100000: tr: 1.9916, va: 2.1582\n",
      "  95000/ 100000: tr: 2.0210, va: 2.1616\n"
     ]
    }
   ],
   "source": [
    "iterations = 100_000\n",
    "batch_size = 32\n",
    "\n",
    "for iter in range(iterations):\n",
    "\n",
    "    # minibatch construct\n",
    "    mIdx = torch.randint(0, xTrain.shape[0], (batch_size,))\n",
    "    \n",
    "    # forward pass\n",
    "    emb = C[xTrain[mIdx]] # embed the characters into vectors\n",
    "    x = emb.view(emb.shape[0], -1) # concatenate the vectors\n",
    "    \n",
    "    x = net.forward(x)\n",
    "    loss = loss_fn(x, yTrain[mIdx]) # loss function\n",
    "\n",
    "    # backward pass\n",
    "    optimizer.zero_grad()\n",
    "    loss.backward()\n",
    "\n",
    "    # update\n",
    "    optimizer.step()\n",
    "\n",
    "    # track stats\n",
    "    if iter % 5_000 == 0: # print every once in a while\n",
    "        with torch.no_grad():\n",
    "            Yb = yVal\n",
    "            emb = C[xVal]\n",
    "            x = emb.view(emb.shape[0], -1)\n",
    "            x = net(x)\n",
    "            vaLoss = loss_fn(x, Yb)\n",
    "            vaL.append(vaLoss.log10().item())\n",
    "\n",
    "            print(f'{iter:7d}/{iterations:7d}: tr: {loss.item():.4f}, va: {vaLoss.item():.4f}')\n",
    "        \n",
    "    trL.append(loss.log10().item())\n",
    "\n"
   ]
  },
  {
   "cell_type": "code",
   "execution_count": 7,
   "id": "c1646e70",
   "metadata": {},
   "outputs": [
    {
     "data": {
      "text/plain": [
       "tensor([3.2958])"
      ]
     },
     "execution_count": 7,
     "metadata": {},
     "output_type": "execute_result"
    }
   ],
   "source": [
    "# Theoretical first loss should be around:\n",
    "-torch.tensor([1/27]).log()"
   ]
  },
  {
   "cell_type": "code",
   "execution_count": 8,
   "id": "66e5a47e",
   "metadata": {},
   "outputs": [
    {
     "data": {
      "image/png": "[encoded data removed]",
      "text/plain": [
       "<Figure size 640x480 with 1 Axes>"
      ]
     },
     "metadata": {},
     "output_type": "display_data"
    },
    {
     "data": {
      "text/plain": [
       "[<matplotlib.lines.Line2D at 0x1c2938ddde0>]"
      ]
     },
     "execution_count": 8,
     "metadata": {},
     "output_type": "execute_result"
    },
    {
     "data": {
      "image/png": "[encoded data removed]",
      "text/plain": [
       "<Figure size 640x480 with 1 Axes>"
      ]
     },
     "metadata": {},
     "output_type": "display_data"
    }
   ],
   "source": [
    "plt.plot(trL)\n",
    "plt.show()\n",
    "plt.plot(vaL)"
   ]
  },
  {
   "cell_type": "code",
   "execution_count": 9,
   "id": "95afc899",
   "metadata": {},
   "outputs": [
    {
     "name": "stdout",
     "output_type": "stream",
     "text": [
      "xosimnrelena\n",
      "klya\n",
      "aadavie\n",
      "sell\n",
      "pater\n",
      "kamonion\n",
      "kmdoni\n",
      "zha\n",
      "izy\n",
      "nuyn\n"
     ]
    }
   ],
   "source": [
    "net.eval()\n",
    "\n",
    "with torch.no_grad():\n",
    "    for _ in range(10):\n",
    "        curr_context = list('.'*nChars)\n",
    "        name = []\n",
    "\n",
    "        while True:\n",
    "            # Run 1 forward with the current context of word\n",
    "            chs = torch.tensor([stoi[c] for c in curr_context])\n",
    "            emb = C[chs] # embed the characters into vectors\n",
    "\n",
    "            x = net.forward(emb.view(1, -1))\n",
    "\n",
    "            # Sample from the output and convert that int to a char\n",
    "            sample = torch.multinomial(F.softmax(x, dim=1), 1)\n",
    "            next_char = itos[sample.item()]\n",
    "\n",
    "            curr_context = curr_context[1:] + [next_char]\n",
    "            name.append(next_char)\n",
    "\n",
    "            # End\n",
    "            if next_char == '.':\n",
    "                break\n",
    "\n",
    "        print(''.join(x for x in name)[:-1])"
   ]
  }
 ],
 "metadata": {
  "kernelspec": {
   "display_name": "Python 3 (ipykernel)",
   "language": "python",
   "name": "python3"
  },
  "language_info": {
   "codemirror_mode": {
    "name": "ipython",
    "version": 3
   },
   "file_extension": ".py",
   "mimetype": "text/x-python",
   "name": "python",
   "nbconvert_exporter": "python",
   "pygments_lexer": "ipython3",
   "version": "3.10.8"
  }
 },
 "nbformat": 4,
 "nbformat_minor": 5
}
